{
 "cells": [
  {
   "cell_type": "code",
   "execution_count": null,
   "metadata": {},
   "outputs": [],
   "source": [
    "from sklearn import model_selection, feature_extraction\n",
    "import pandas as pd\n",
    "import numpy as np\n",
    "from nltk.stem import WordNetLemmatizer\n",
    "from nltk.corpus import stopwords\n",
    "from nltk.tokenize import word_tokenize\n",
    "import pickle\n",
    "import pandas as pd\n",
    "import numpy as np\n",
    "from sklearn.neural_network import MLPClassifier\n",
    "\n",
    "baseread = r'./data/lemmatized'\n",
    "basepath = r'./data/lemmatized'\n",
    "\n",
    "fakerealnews = pd.read_csv(baseread+r'/fakereal_dropped36487.csv',sep=',', header=0, na_values=['?',' ','','.','NA','NAN'])\n",
    "fakereallabel = pd.read_csv(baseread+r'/labels_dropped36487.csv',sep=',', header=0, na_values=['?',' ','','.','NA','NAN'])\n",
    "\n",
    "test_size = round(44266*.25)  #11066 records and about 33034 train records\n",
    "valid_size = round(44266*.75 *.005) #166 records\n",
    "\n",
    "X_train, X_test, y_train, y_test = model_selection.train_test_split(\n",
    "    fakerealnews['document'], fakerealnews['label'], test_size=test_size, random_state=42,shuffle=True)\n",
    "\n",
    "#do not shuffle to retain index\n",
    "X_train, X_protype, y_train, y_protype = model_selection.train_test_split(\n",
    "    X_train, y_train, test_size=valid_size, random_state=None,shuffle=False)\n",
    "\n",
    "X_train.to_csv(basepath+r'/xtraincleanrealfake.csv', index=True, index_label='index')\n",
    "y_train.to_csv(basepath+r'/ytraincleanrealfakelabel.csv', index=True, index_label='index')\n",
    "X_test.to_csv(basepath+r'/xtestcleanrealfake.csv', index=True, index_label='index')\n",
    "y_test.to_csv(basepath+r'/ytestcleanrealfakelabel.csv', index=True, index_label='index')\n",
    "X_protype.to_csv(basepath+r'/xprotypecleanrealfake.csv', index=True, index_label='index')\n",
    "y_protype.to_csv(basepath+r'/yprotypecleanrealfakelabel.csv', index=True, index_label='index')"
   ]
  },
  {
   "cell_type": "code",
   "execution_count": null,
   "metadata": {},
   "outputs": [],
   "source": [
    "##the below functions are for turning the documents into tfidf\n",
    "stop_words = stopwords.words('english') + ['since','said','yet','thou', 'thee', 'art', 'thy', 'thine', 'ye', 'hast', 'hath', 'upon', 'unto',\n",
    "                                           \"'d\", \"'ll\", \"'re\", \"'s\", \"'ve\", 'could', 'might', 'must', \"n't\", 'need', 'sha', 'wo', 'would']\n",
    "\n",
    "def extract_features(train, test, protype, ngram_range=(1,1), min_df=1, max_features=10000):\n",
    "    '''Extract TF-IDF features from corpus'''\n",
    "    # vectorize means we turn non-numerical data into an array of numbers\n",
    "    count_vectorizer = feature_extraction.text.CountVectorizer(\n",
    "        lowercase=True,  # for demonstration, True by default\n",
    "        tokenizer= word_tokenize,  # use the NLTK tokenizer\n",
    "        stop_words=stop_words,  # remove stop words\n",
    "        ngram_range=ngram_range,  #bigram (2,2)\n",
    "        min_df=min_df,  # minimum document frequency, i.e. the word must appear more than once.\n",
    "        max_features=max_features #top max_features ordered by term frequency\n",
    "    )\n",
    "    processed_train = count_vectorizer.fit_transform(train) #corpus is a list of documents\n",
    "    tfid = feature_extraction.text.TfidfTransformer()\n",
    "    processed_train = tfid.fit_transform(\n",
    "        processed_train)\n",
    "    \n",
    "    processed_test = tfid.transform(count_vectorizer.transform(test))\n",
    "    processed_protype = tfid.transform(count_vectorizer.transform(protype))\n",
    "    return processed_train, processed_test, processed_protype\n",
    "\n",
    "def lemmatizer(corpus):\n",
    "    '''corpus:  list of documents\n",
    "    return: lemmatized document list without stop words \n",
    "    and list of index of doucments that had zero length. \n",
    "    '''\n",
    "    wordnet_lemmatizer = WordNetLemmatizer()\n",
    "    lemmatized = list()\n",
    "    count = -1\n",
    "    ndxlist = list()\n",
    "    for doc in corpus:\n",
    "        count +=1\n",
    "        tokenization = word_tokenize(doc)\n",
    "        wordlist = list()\n",
    "        for w in tokenization:\n",
    "            if w not in stop_words:\n",
    "                wordlist.append(wordnet_lemmatizer.lemmatize(w) + ' ')\n",
    "        if len(wordlist) > 0:\n",
    "            lemmatized.append(\"\".join(wordlist).strip())\n",
    "        else:\n",
    "            ndxlist.append(count)\n",
    "    return lemmatized, ndxlist"
   ]
  },
  {
   "cell_type": "code",
   "execution_count": null,
   "metadata": {},
   "outputs": [],
   "source": [
    "xtraincleanrealfake = pd.read_csv(basepath+r'/xtraincleanrealfake.csv',sep=',',\n",
    "                                  header=0, na_values=['?',' ','','.','NA','NAN'])\n",
    "xtestcleanrealfake = pd.read_csv(basepath+r'/xtestcleanrealfake.csv',sep=',',\n",
    "                                  header=0, na_values=['?',' ','','.','NA','NAN'])\n",
    "xprotypecleanrealfake = pd.read_csv(basepath+r'/xprotypecleanrealfake.csv',sep=',',\n",
    "                                  header=0, na_values=['?',' ','','.','NA','NAN'])"
   ]
  },
  {
   "cell_type": "code",
   "execution_count": null,
   "metadata": {},
   "outputs": [],
   "source": [
    "%%time\n",
    "###lemmatized the documents\n",
    "xtraincleanrealfake, ndxlist = lemmatizer(xtraincleanrealfake['document'])\n",
    "xtestcleanrealfake, ndxlist = lemmatizer(xtestcleanrealfake['document'])\n",
    "xprotypecleanrealfake, ndxlist = lemmatizer(xprotypecleanrealfake['document'])"
   ]
  },
  {
   "cell_type": "code",
   "execution_count": null,
   "metadata": {},
   "outputs": [],
   "source": [
    "%%time\n",
    "#turn the dataset into tfidf, we do NOT need to \"tfidf\" the label datasets\n",
    "xtraincleanrealfake_tfidf, xtestcleanrealfake_tfidf, xprotypecleanrealfake_tfidf = extract_features(\n",
    "    xtraincleanrealfake,\n",
    "    xtestcleanrealfake,\n",
    "    xprotypecleanrealfake)"
   ]
  },
  {
   "cell_type": "code",
   "execution_count": null,
   "metadata": {},
   "outputs": [],
   "source": [
    "##to save the tfidf result\n",
    "import pickle\n",
    "with open(basepath+r'/xtraincleanrealfake_tfidf.pkl', 'wb') as f:\n",
    "    pickle.dump(xtraincleanrealfake_tfidf, f)\n",
    "with open(basepath+r'/xtestcleanrealfake_tfidf.pkl', 'wb') as f:\n",
    "    pickle.dump(xtestcleanrealfake_tfidf, f)\n",
    "with open(basepath+r'/xprotypecleanrealfake_tfidf.pkl', 'wb') as f:\n",
    "    pickle.dump(xprotypecleanrealfake_tfidf, f)"
   ]
  },
  {
   "cell_type": "code",
   "execution_count": null,
   "metadata": {},
   "outputs": [],
   "source": [
    "print(xtraincleanrealfake_tfidf.shape)\n",
    "print(xtestcleanrealfake_tfidf.shape)\n",
    "print(xprotypecleanrealfake_tfidf.shape)"
   ]
  }
 ],
 "metadata": {
  "kernelspec": {
   "display_name": "Python 3",
   "language": "python",
   "name": "python3"
  },
  "language_info": {
   "codemirror_mode": {
    "name": "ipython",
    "version": 3
   },
   "file_extension": ".py",
   "mimetype": "text/x-python",
   "name": "python",
   "nbconvert_exporter": "python",
   "pygments_lexer": "ipython3",
   "version": "3.8.5"
  },
  "toc": {
   "base_numbering": 1,
   "nav_menu": {},
   "number_sections": true,
   "sideBar": true,
   "skip_h1_title": false,
   "title_cell": "Table of Contents",
   "title_sidebar": "Contents",
   "toc_cell": false,
   "toc_position": {},
   "toc_section_display": true,
   "toc_window_display": false
  }
 },
 "nbformat": 4,
 "nbformat_minor": 4
}
